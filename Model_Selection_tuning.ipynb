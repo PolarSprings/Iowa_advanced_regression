{
 "cells": [
  {
   "cell_type": "code",
   "execution_count": 1,
   "id": "34e48218",
   "metadata": {},
   "outputs": [],
   "source": [
    "import pandas as pd\n",
    "import numpy as np\n",
    "\n",
    "import xgboost as xgb\n",
    "from sklearn.model_selection import RandomizedSearchCV, GridSearchCV\n",
    "from sklearn.metrics import roc_auc_score\n",
    "from xgboost import XGBRegressor\n",
    "from skopt import BayesSearchCV\n",
    "from skopt.space import Real, Categorical, Integer\n",
    "\n",
    "import plotly.express as px\n",
    "from plotly.offline import *\n",
    "from plotly.subplots import make_subplots\n",
    "\n",
    "import random"
   ]
  },
  {
   "cell_type": "code",
   "execution_count": 3,
   "id": "b05aa6ed",
   "metadata": {},
   "outputs": [],
   "source": [
    "repo = ('https://raw.githubusercontent.com/PolarSprings/Iowa_advanced_regression/main/model_selec_dim.csv?token=AKXGRRTFSDYTOOXF5CLCQJDA4OZCE')\n",
    "\n",
    "models3 = pd.read_csv(repo, skipinitialspace=True)"
   ]
  },
  {
   "cell_type": "code",
   "execution_count": 4,
   "id": "0b09b0f4",
   "metadata": {},
   "outputs": [],
   "source": [
    "data = models3.drop(['AdjSalePrice'], 1)\n",
    "target = models3[['AdjSalePrice']].squeeze()"
   ]
  },
  {
   "cell_type": "code",
   "execution_count": 99,
   "id": "a485e8c9",
   "metadata": {},
   "outputs": [
    {
     "name": "stdout",
     "output_type": "stream",
     "text": [
      "the train score for this model is : 0.9969275290843757\n",
      "the test score for this model is : 0.9530533594875293\n"
     ]
    }
   ],
   "source": [
    "# xgbooster = xgb.XGBRegressor(verbosity=1)\n",
    "\n",
    "# data = models3.drop(['AdjSalePrice'], 1)\n",
    "# target = models3[['AdjSalePrice']].squeeze()\n",
    "\n",
    "# idx = np.random.choice(range(0,len(models3)), size=round(len(models3)*0.75), replace=False)\n",
    "\n",
    "# x_train = data.iloc[idx]\n",
    "# y_train = target.iloc[idx]\n",
    "\n",
    "# x_test = data.iloc[~idx]\n",
    "# y_test = target.iloc[~idx]\n",
    "\n",
    "# xgbooster.fit(x_train, y_train)\n",
    "\n",
    "# print('the train score for this model is :', xgbooster.score(x_train, y_train))\n",
    "# print('the test score for this model is :', xgbooster.score(x_test, y_test))"
   ]
  },
  {
   "cell_type": "code",
   "execution_count": 5,
   "id": "e9263b55",
   "metadata": {},
   "outputs": [
    {
     "data": {
      "text/plain": [
       "XGBRegressor(base_score=0.5, booster='gbtree', colsample_bylevel=1,\n",
       "             colsample_bynode=1, colsample_bytree=1, gamma=0, gpu_id=-1,\n",
       "             importance_type='gain', interaction_constraints='',\n",
       "             learning_rate=0.300000012, max_delta_step=0, max_depth=6,\n",
       "             min_child_weight=1, missing=nan, monotone_constraints='()',\n",
       "             n_estimators=100, n_jobs=4, num_parallel_tree=1, random_state=0,\n",
       "             reg_alpha=0, reg_lambda=1, scale_pos_weight=1, subsample=1,\n",
       "             tree_method='exact', validate_parameters=1, verbosity=0)"
      ]
     },
     "execution_count": 5,
     "metadata": {},
     "output_type": "execute_result"
    }
   ],
   "source": [
    "boost = xgb.XGBRegressor(verbosity=0)\n",
    "\n",
    "boost.fit(data, target)"
   ]
  },
  {
   "cell_type": "code",
   "execution_count": 8,
   "id": "115777d4",
   "metadata": {},
   "outputs": [],
   "source": [
    "params = {\n",
    "    'objective':['reg:squarederror'],\n",
    "    'n_estimators':[300, 400, 500],\n",
    "#     'min_child_weight': [5, 6, 7],\n",
    "#     'max_depth':[5],\n",
    "#     'gamma': [0,0.5, 1],\n",
    "#     'lambda':[0, 0.0001, 0.5, 1],\n",
    "#     'alpha':[0, 0.5, 1],\n",
    "    'feature_selector':['greedy'],\n",
    "#     'eta':[0, 0.5, 1],\n",
    "#     'colsample_bytree': [0.3, 0.4, 0.5],\n",
    "#     'max_delta_step':[0],\n",
    "#     'refresh_leaf':[0],\n",
    "#     'tree_method':['auto'],\n",
    "#     'sketch_eps':[0],\n",
    "    'updater':['grow_colmaker'],\n",
    "#     'process_type':['default']\n",
    "}"
   ]
  },
  {
   "cell_type": "code",
   "execution_count": 9,
   "id": "743bac16",
   "metadata": {
    "scrolled": true
   },
   "outputs": [
    {
     "name": "stderr",
     "output_type": "stream",
     "text": [
      "c:\\python38\\lib\\site-packages\\sklearn\\model_selection\\_search.py:278: UserWarning:\n",
      "\n",
      "The total space of parameters 3 is smaller than n_iter=128. Running 3 iterations. For exhaustive searches, use GridSearchCV.\n",
      "\n"
     ]
    }
   ],
   "source": [
    "random_search = RandomizedSearchCV(boost, param_distributions=params, n_jobs=-1, cv=2, n_iter=128).fit(data, target)"
   ]
  },
  {
   "cell_type": "code",
   "execution_count": 10,
   "id": "3e22f093",
   "metadata": {},
   "outputs": [
    {
     "data": {
      "text/plain": [
       "{'updater': 'grow_colmaker',\n",
       " 'objective': 'reg:squarederror',\n",
       " 'n_estimators': 300,\n",
       " 'feature_selector': 'greedy'}"
      ]
     },
     "execution_count": 10,
     "metadata": {},
     "output_type": "execute_result"
    }
   ],
   "source": [
    "random_search.best_params_"
   ]
  },
  {
   "cell_type": "code",
   "execution_count": 12,
   "id": "d08056c5",
   "metadata": {},
   "outputs": [],
   "source": [
    "grid_search = GridSearchCV(boost, param_grid=params, n_jobs=-1, cv=2).fit(data, target)"
   ]
  },
  {
   "cell_type": "code",
   "execution_count": 13,
   "id": "cd71a199",
   "metadata": {},
   "outputs": [
    {
     "data": {
      "text/plain": [
       "{'feature_selector': 'greedy',\n",
       " 'n_estimators': 300,\n",
       " 'objective': 'reg:squarederror',\n",
       " 'updater': 'grow_colmaker'}"
      ]
     },
     "execution_count": 13,
     "metadata": {},
     "output_type": "execute_result"
    }
   ],
   "source": [
    "grid_search.best_params_"
   ]
  },
  {
   "cell_type": "code",
   "execution_count": 15,
   "id": "176770f1",
   "metadata": {},
   "outputs": [],
   "source": [
    "params = {\n",
    "    'objective':'reg:squarederror',\n",
    "    'n_estimators':300,\n",
    "      'max_delta_step':0,\n",
    "    'updater':'grow_colmaker',\n",
    "}\n"
   ]
  },
  {
   "cell_type": "code",
   "execution_count": 16,
   "id": "a9d4123c",
   "metadata": {},
   "outputs": [
    {
     "name": "stdout",
     "output_type": "stream",
     "text": [
      "[21:32:20] WARNING: C:/Users/Administrator/workspace/xgboost-win64_release_1.4.0/src/gbm/gbtree.cc:82: DANGER AHEAD: You have manually specified `updater` parameter. The `tree_method` parameter will be ignored. Incorrect sequence of updaters will produce undefined behavior. For common uses, we recommend using `tree_method` parameter instead.\n"
     ]
    },
    {
     "data": {
      "text/plain": [
       "XGBRegressor(base_score=0.5, booster='gbtree', colsample_bylevel=1,\n",
       "             colsample_bynode=1, colsample_bytree=1, gamma=0, gpu_id=-1,\n",
       "             importance_type='gain', interaction_constraints='',\n",
       "             learning_rate=0.300000012, max_delta_step=0, max_depth=6,\n",
       "             min_child_weight=1, missing=nan, monotone_constraints='()',\n",
       "             n_estimators=300, n_jobs=4, num_parallel_tree=1, random_state=0,\n",
       "             reg_alpha=0, reg_lambda=1, scale_pos_weight=1, subsample=1,\n",
       "             tree_method='auto', updater='grow_colmaker', validate_parameters=1,\n",
       "             verbosity=1)"
      ]
     },
     "execution_count": 16,
     "metadata": {},
     "output_type": "execute_result"
    }
   ],
   "source": [
    "xgbooster = xgb.XGBRegressor(verbosity=1)\n",
    "\n",
    "xgbooster.set_params(**params)\n",
    "\n",
    "xgbooster.fit(data, target)"
   ]
  },
  {
   "cell_type": "code",
   "execution_count": 17,
   "id": "6ef4937b",
   "metadata": {},
   "outputs": [
    {
     "name": "stdout",
     "output_type": "stream",
     "text": [
      "[21:32:26] WARNING: C:/Users/Administrator/workspace/xgboost-win64_release_1.4.0/src/gbm/gbtree.cc:82: DANGER AHEAD: You have manually specified `updater` parameter. The `tree_method` parameter will be ignored. Incorrect sequence of updaters will produce undefined behavior. For common uses, we recommend using `tree_method` parameter instead.\n",
      "the train score for this model is : 0.9999063728337865\n",
      "the test score for this model is : 0.971153112180821\n"
     ]
    }
   ],
   "source": [
    "idx = np.random.choice(range(0,len(models3)), size=round(len(models3)*0.75), replace=False)\n",
    "\n",
    "x_train = data.iloc[idx]\n",
    "y_train = target.iloc[idx]\n",
    "\n",
    "x_test = data.iloc[~idx]\n",
    "y_test = target.iloc[~idx]\n",
    "\n",
    "xgbooster.fit(x_train, y_train)\n",
    "\n",
    "print('the train score for this model is :', xgbooster.score(x_train, y_train))\n",
    "print('the test score for this model is :', xgbooster.score(x_test, y_test))"
   ]
  }
 ],
 "metadata": {
  "kernelspec": {
   "display_name": "Python 3",
   "language": "python",
   "name": "python3"
  },
  "language_info": {
   "codemirror_mode": {
    "name": "ipython",
    "version": 3
   },
   "file_extension": ".py",
   "mimetype": "text/x-python",
   "name": "python",
   "nbconvert_exporter": "python",
   "pygments_lexer": "ipython3",
   "version": "3.8.9"
  }
 },
 "nbformat": 4,
 "nbformat_minor": 5
}
